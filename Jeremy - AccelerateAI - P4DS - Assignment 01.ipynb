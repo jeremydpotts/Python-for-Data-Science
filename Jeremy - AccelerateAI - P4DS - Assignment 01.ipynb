{
 "cells": [
  {
   "cell_type": "markdown",
   "id": "820d8be5",
   "metadata": {},
   "source": [
    "### AccelerateAI - Python for Data Science - Assignment 01"
   ]
  },
  {
   "cell_type": "markdown",
   "id": "5858364e",
   "metadata": {},
   "source": [
    "Q1. Write a python code to give the absolute difference between a given number and 100. <br>\n",
    " Input:50 ,  Output:50 <br>\n",
    " Input:125 ,  Output:25"
   ]
  },
  {
   "cell_type": "code",
   "execution_count": 1,
   "id": "9da028ae",
   "metadata": {},
   "outputs": [
    {
     "name": "stdout",
     "output_type": "stream",
     "text": [
      "50 25\n"
     ]
    }
   ],
   "source": [
    "num1 = 50\n",
    "num2 = 125\n",
    "diff1 = abs(num1 - 100)\n",
    "diff2 = abs(num2 - 100)\n",
    "print(diff1, diff2)"
   ]
  },
  {
   "cell_type": "markdown",
   "id": "59b60264",
   "metadata": {},
   "source": [
    "Q2. Write python code to check if a given number is divisible by 3, 5, or 7.<br>\n",
    "Input: 21, Output: divisible by 3 , 7.<br>\n",
    "Input: 22, Output: not divisible by 3, 5, or 7."
   ]
  },
  {
   "cell_type": "code",
   "execution_count": 59,
   "id": "e4c629a9",
   "metadata": {},
   "outputs": [
    {
     "name": "stdout",
     "output_type": "stream",
     "text": [
      "Please insert a number: 22\n",
      "The number 22 is not divisible by 3, 5, or 7.\n"
     ]
    }
   ],
   "source": [
    "#Receive a number\n",
    "number = int(input(\"Please insert a number: \"))\n",
    "\n",
    "#Check if it is divisible\n",
    "is_divisible_by_3 = False\n",
    "if((number % 3) == 0):\n",
    "    is_divisible_by_3 = True\n",
    "\n",
    "is_divisible_by_5 = False\n",
    "if((number % 5) == 0):\n",
    "    is_divisible_by_5 = True\n",
    "    \n",
    "is_divisible_by_7 = False\n",
    "if((number % 7) == 0):\n",
    "    is_divisible_by_7 = True\n",
    "\n",
    "    #Print the results\n",
    "if(is_divisible_by_3 and is_divisible_by_5 and is_divisible_by_7):\n",
    "    print(\"The number %d is divisible by 3, 5 and 7.\" % number)\n",
    "elif(is_divisible_by_3 and is_divisible_by_7):\n",
    "    print(\"The number %d is divisible by 3, 7.\" % number)\n",
    "elif(is_divisible_by_3):\n",
    "    print(\"The number %d is divisible by 3.\" % number)\n",
    "elif(is_divisible_by_5):\n",
    "    print(\"The number %d is divisible by 5.\" % number)\n",
    "elif(is_divisible_by_7):\n",
    "    print(\"The number %d is divisible by 7.\" % number)\n",
    "else:\n",
    "    print(\"The number %d is not divisible by 3, 5, or 7.\" % number)\n",
    "    "
   ]
  },
  {
   "cell_type": "markdown",
   "id": "550de175",
   "metadata": {},
   "source": [
    "Q3 . Write a python code to count the number of characters in a given string.<br>\n",
    "Input:mystr = \"I love programming in python.\" <br>\n",
    "Output: 29"
   ]
  },
  {
   "cell_type": "code",
   "execution_count": 2,
   "id": "8984ca70",
   "metadata": {},
   "outputs": [
    {
     "data": {
      "text/plain": [
       "29"
      ]
     },
     "execution_count": 2,
     "metadata": {},
     "output_type": "execute_result"
    }
   ],
   "source": [
    "mystr = \"I love programming in python.\" \n",
    "len(mystr)"
   ]
  },
  {
   "cell_type": "markdown",
   "id": "2435e986",
   "metadata": {},
   "source": [
    "Q4. Write python code to add a number to a tuple.<br>\n",
    "Input: (1,2,3) , 4 <br>\n",
    "Output: (1,2,3,4)  <br>"
   ]
  },
  {
   "cell_type": "code",
   "execution_count": 20,
   "id": "6c95fab9",
   "metadata": {},
   "outputs": [
    {
     "name": "stdout",
     "output_type": "stream",
     "text": [
      "[1, 2, 3, 4]\n"
     ]
    }
   ],
   "source": [
    "#tuples are immutable\n",
    "tuple1 = [1, 2, 3]\n",
    "tuple1 = tuple1 + [ 4] \n",
    "print(tuple1)"
   ]
  },
  {
   "cell_type": "markdown",
   "id": "03996eec",
   "metadata": {},
   "source": [
    "Q5. Write a python code to find the minimum and maximum value in a set.<br>\n",
    "Input: myset = {5, 10, 3, 15, 2, 20} <br>\n",
    "Output: <br>\n",
    "Maximum value: 20 <br>\n",
    "Minimum value: 2    "
   ]
  },
  {
   "cell_type": "code",
   "execution_count": 11,
   "id": "8a453007",
   "metadata": {},
   "outputs": [
    {
     "name": "stdout",
     "output_type": "stream",
     "text": [
      "20\n",
      "2\n"
     ]
    }
   ],
   "source": [
    "myset = {5, 10, 3, 15, 2, 20} \n",
    "print(max(myset))\n",
    "print(min(myset))"
   ]
  }
 ],
 "metadata": {
  "kernelspec": {
   "display_name": "Python 3 (ipykernel)",
   "language": "python",
   "name": "python3"
  },
  "language_info": {
   "codemirror_mode": {
    "name": "ipython",
    "version": 3
   },
   "file_extension": ".py",
   "mimetype": "text/x-python",
   "name": "python",
   "nbconvert_exporter": "python",
   "pygments_lexer": "ipython3",
   "version": "3.9.7"
  }
 },
 "nbformat": 4,
 "nbformat_minor": 5
}
